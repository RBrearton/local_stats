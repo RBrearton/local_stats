{
 "cells": [
  {
   "cell_type": "markdown",
   "metadata": {},
   "source": [
    "This notebook showcases the use of local_stats to analyse a typical diffraction\n",
    "image. To start, we want to load an image. We'll use local_stats' Image class'\n",
    "from_file method to load the image. The image we'll load ships with local_stats'\n",
    "test suite, and is stored in the local_stats/tests/resources/ directory."
   ]
  },
  {
   "cell_type": "code",
   "execution_count": 1,
   "metadata": {},
   "outputs": [],
   "source": [
    "from local_stats.image import Image\n",
    "\n",
    "# Relative path from the docs/source/ directory to test/resources/.\n",
    "path_to_tiff = \"../../tests/resources/pixis-0.tiff\"\n",
    "\n",
    "# Loads the image as an instance of local_stats' Image class. This will give us\n",
    "# access to lots of handy denoising and clustering functionality later.\n",
    "image = Image.from_file(path_to_tiff)\n",
    "\n"
   ]
  },
  {
   "cell_type": "markdown",
   "metadata": {},
   "source": [
    "We're going to need to render 2D numpy arrays as images a lot, so lets make a\n",
    "convenience function for making these plots, with some nice defaults."
   ]
  },
  {
   "cell_type": "code",
   "execution_count": 2,
   "metadata": {},
   "outputs": [],
   "source": [
    "import matplotlib\n",
    "from typing import Tuple\n",
    "\n",
    "import numpy as np\n",
    "%matplotlib inline\n",
    "# matplotlib.use('TkAgg')\n",
    "import matplotlib.pyplot as plt\n",
    "\n",
    "\n",
    "def plot_imshow(img: np.ndarray, figsize: Tuple[int] = (20, 20),\n",
    "                cmap: str = 'jet', title=\"\", **kwargs) -> None:\n",
    "    \"\"\"\n",
    "    Imshow, but with the best colour scheme and a big size.\n",
    "    \"\"\"\n",
    "    fig = plt.figure(figsize=figsize)\n",
    "    ax = fig.add_subplot(111)\n",
    "    picture = ax.imshow(img, cmap=cmap, **kwargs)\n",
    "    fig.colorbar(picture, ax=ax)\n",
    "\n",
    "    plt.title(title)\n",
    "\n",
    "    fig.show()"
   ]
  },
  {
   "cell_type": "markdown",
   "metadata": {},
   "source": [
    "Now that we've got that ready, lets plot the original image that we just loaded.\n",
    "Note that the raw image data is stored as a numpy ndarray as an instance of\n",
    "Image's image_array attribute."
   ]
  },
  {
   "cell_type": "code",
   "execution_count": 3,
   "metadata": {},
   "outputs": [],
   "source": [
    "plot_imshow(image.image_array)"
   ]
  },
  {
   "cell_type": "markdown",
   "metadata": {},
   "source": [
    "Well... that leaves a lot to be desired. One of the biggest problems with this\n",
    "kind of data comes from the aging of the detector. These CCD cameras develop\n",
    "regions where they pick up a large number of background counts that are\n",
    "unrelated to the incident light.\n",
    "\n",
    "The simplest way to get rid of these artefacts is to take a background image and\n",
    "subtract it. Lets do that, and lets instantiate a local_stats image object at\n",
    "the same time."
   ]
  },
  {
   "cell_type": "code",
   "execution_count": 4,
   "metadata": {},
   "outputs": [],
   "source": [
    "# Relative path to the background .tiff.\n",
    "path_to_background_img = \"../../tests/resources/background.tiff\"\n",
    "background_img = Image.from_file(path_to_background_img)\n",
    "\n",
    "image.subtract_background(background_img)\n",
    "\n",
    "# Lets see how our image looks now.\n",
    "plot_imshow(image.image_array)"
   ]
  },
  {
   "cell_type": "markdown",
   "metadata": {},
   "source": [
    "Okay, this looks a lot better, but stil contains a significant amount of noise.\n",
    "To deal with this, lets use local_stats' wavelet denoising routine. This\n",
    "requires, at the very least, knowledge of one parameter.\n",
    "\n",
    "We need to know over what lengthscale (in units of pixels) signal\n",
    "appears in our image. At a glance, I'd say that the peaks are around 20 pixels\n",
    "wide.\n",
    "\n",
    "It's worth appreciating that the pixel intensities in wavelet denoised images\n",
    "lose their full physical meaning. So, before carrying out the wavelet denoising,\n",
    "one should probably save a copy of the background subtracted image. This will\n",
    "come in handy later.\n",
    "\n",
    "Under the hood:\n",
    "\n",
    "We can use this lengthscale to estimate what wavelet frequencies will represent\n",
    "noise in the wavelet representation of the above image. These wavelets will be\n",
    "preferentially culled compared to lower-frequency wavelets. Then, the image will\n",
    "be wavelet transformed back to the original image-space after the decimation\n",
    "procedure."
   ]
  },
  {
   "cell_type": "code",
   "execution_count": 5,
   "metadata": {},
   "outputs": [],
   "source": [
    "# Make a copy of the background subtracted image before doing any denoising.\n",
    "bkg_subtracted_image_array = np.copy(image.image_array)\n",
    "\n",
    "signal_length_scale = 20\n",
    "image.wavelet_denoise(20)\n",
    "\n",
    "plot_imshow(image.image_array)"
   ]
  },
  {
   "cell_type": "markdown",
   "metadata": {},
   "source": [
    "Now we want to do some local stats on this image to work out which pixels are\n",
    "statistically significant. To do this, we need to know the signal_length_scale\n",
    "given above, as well as over what lengthscale (in units of pixels) the\n",
    "background varies in the image. Here, background varies over around 100-200\n",
    "pixels; smaller numbers will inevitably be more performant, so lets pick 100."
   ]
  },
  {
   "cell_type": "code",
   "execution_count": 6,
   "metadata": {},
   "outputs": [],
   "source": [
    "bkg_length_scale = 100\n",
    "\n",
    "significant_pixels = image._significant_pixels(signal_length_scale,\n",
    "                                               bkg_length_scale)\n",
    "\n",
    "plot_imshow(significant_pixels)"
   ]
  },
  {
   "cell_type": "markdown",
   "metadata": {},
   "source": [
    "This is reasonable, but there's a problem: the 0-count regions covered by the\n",
    "beamstop in the experiment are affecting our local stats! To account for this,\n",
    "we really need to use a mask when doing our statistical calculations. Lets make\n",
    "a mask and run the significance map again."
   ]
  },
  {
   "cell_type": "code",
   "execution_count": 7,
   "metadata": {},
   "outputs": [],
   "source": [
    "open_mask = background_img.image_array > np.inf\n",
    "\n",
    "# I'll just write down where I roughly worked out the beamstop finished.\n",
    "# Calculated manually\n",
    "beamstop_top = 1082\n",
    "beamsotp_bottom = 1284\n",
    "beamstop_left = 948\n",
    "beamstop_right = 1145\n",
    "\n",
    "# Internally, this mask will multiply an image array.\n",
    "# So, 0 = masked, 1 = unmasked. \n",
    "mask = np.ones_like(background_img.image_array)\n",
    "mask[(beamstop_top-bkg_length_scale):(beamsotp_bottom+bkg_length_scale),\n",
    "     (beamstop_left-bkg_length_scale):(beamstop_right+bkg_length_scale)] = 0\n",
    "\n",
    "\n",
    "significant_pixels = image._significant_pixels(\n",
    "     signal_length_scale, bkg_length_scale, significance_mask=mask)\n",
    "\n",
    "plot_imshow(significant_pixels)\n"
   ]
  },
  {
   "cell_type": "markdown",
   "metadata": {},
   "source": [
    "It's really important to note that we should only do this in regions where we\n",
    "have reason to believe that our stats are being affected by physical blockages\n",
    "of light. Just for the record, it would be very bad form to manually mask\n",
    "diffracted light; if it's being picked up as statistically significant above\n",
    "background, your time would be better spent understanding the signal than\n",
    "masking it.\n",
    "\n",
    "Anyway, now we have a map of significant pixels, but these aren't actually\n",
    "clustered. Note that Image._significant_pixels is a *private* method; you\n",
    "shouldn't actually have to use this other than for debugging purposes. Really,\n",
    "what you want to do is cluster the significant pixels. To do this, you can use\n",
    "the Image's cluster function, which takes the same arguments as the *private*\n",
    "significant_pixels method."
   ]
  },
  {
   "cell_type": "code",
   "execution_count": 8,
   "metadata": {},
   "outputs": [],
   "source": [
    "# Get the clustered significant pixels from the image.\n",
    "clusters = image.cluster(\n",
    "    signal_length_scale, bkg_length_scale, significance_mask=mask)"
   ]
  },
  {
   "cell_type": "markdown",
   "metadata": {},
   "source": [
    "The clusters variable above is a list of local_stats' Cluster objects. More\n",
    "information on these can be found in the API documentation. To demonstrate\n",
    "what they look like, though, lets do some plotting"
   ]
  },
  {
   "cell_type": "code",
   "execution_count": 9,
   "metadata": {},
   "outputs": [],
   "source": [
    "cluster_img = np.zeros_like(image.image_array)\n",
    "for i, cluster in enumerate(clusters):\n",
    "    pixels_x, pixels_y = cluster.pixel_indices\n",
    "    cluster_img[pixels_y, pixels_x] = i+1\n",
    "\n",
    "plot_imshow(cluster_img)"
   ]
  },
  {
   "cell_type": "markdown",
   "metadata": {},
   "source": [
    "So, we have two separate clusters, and we can freely access the pixels that are\n",
    "contained within each cluster. We can also apply a list of clusters as a mask\n",
    "to an image. This can produce images with _perfect background subtraction_. To\n",
    "demonstrate this, lets take a look at the background subtracted image that we\n",
    "prepared earlier."
   ]
  },
  {
   "cell_type": "code",
   "execution_count": 10,
   "metadata": {},
   "outputs": [],
   "source": [
    "cluster_mask = image.mask_from_clusters(clusters)\n",
    "\n",
    "signal_in_clusters = cluster_mask*bkg_subtracted_image_array\n",
    "plot_imshow(signal_in_clusters)"
   ]
  },
  {
   "cell_type": "markdown",
   "metadata": {},
   "source": [
    "If you know the position of the beam centre and the pixel size, it's possible\n",
    "to map this image into reciprocal space. Using\n",
    "[PyFAI](https://pyfai.readthedocs.io/en/master/index.html) as a backend, this\n",
    "can be done in a performant and reproducible way. local_stats' io module\n",
    "provides a convenient way to construct the .poni file that PyFAI depends on."
   ]
  },
  {
   "cell_type": "code",
   "execution_count": 11,
   "metadata": {},
   "outputs": [],
   "source": [
    "from local_stats.io import write_poni\n",
    "\n",
    "# If this isn't written in your log book in a transmission experiment, you did\n",
    "# bad science! These are in units of pixels, counting from the top left.\n",
    "beam_centre_x = 1045\n",
    "beam_centre_y = 1175\n",
    "\n",
    "poni_path = \"my_little.poni\"\n",
    "# Ask your favourite beamline scientist for these if you don't know them. Both\n",
    "# in units of metre.\n",
    "pixel_size = 13.5e-6\n",
    "detector_distance = 0.474\n",
    "# You should definitely know this, though.\n",
    "wavelength = 1.7e-9 \n",
    "\n",
    "write_poni(poni_path, pixel_size, detector_distance, beam_centre_x,\n",
    "           beam_centre_y, wavelength)\n",
    "\n"
   ]
  },
  {
   "cell_type": "markdown",
   "metadata": {},
   "source": [
    "Now we're able to use the PyFAI package's fast azimuthal integration routines\n",
    "to measure, for example, our scattering Q. The PyFAI package is capable of far\n",
    "more than this, see https://pyfai.readthedocs.io/en/master/index.html."
   ]
  },
  {
   "cell_type": "code",
   "execution_count": 12,
   "metadata": {},
   "outputs": [
    {
     "name": "stderr",
     "output_type": "stream",
     "text": [
      "WARNING:silx.opencl.common:Unable to import pyOpenCl. Please install it from: https://pypi.org/project/pyopencl\n"
     ]
    }
   ],
   "source": [
    "import pyFAI\n",
    "\n",
    "# The number of azimuthal integrals to carry out.\n",
    "n_integrals = 1000\n",
    "\n",
    "fai = pyFAI.load(poni_path)\n",
    "result = fai.integrate1d(signal_in_clusters, n_integrals)\n",
    "\n",
    "plt.figure(figsize=(15, 10))\n",
    "plt.xlabel(\"Q (2π/nm)\")\n",
    "plt.ylabel(\"Intensity\")\n",
    "plt.plot(result[0], result[1]);\n"
   ]
  }
 ],
 "metadata": {
  "interpreter": {
   "hash": "32089ffa5effbeab8329045986cff07276aea380dbd5628f6dc0d03300aa7d86"
  },
  "kernelspec": {
   "display_name": "Python 3.10.2 ('local_stats')",
   "language": "python",
   "name": "python3"
  },
  "language_info": {
   "codemirror_mode": {
    "name": "ipython",
    "version": 3
   },
   "file_extension": ".py",
   "mimetype": "text/x-python",
   "name": "python",
   "nbconvert_exporter": "python",
   "pygments_lexer": "ipython3",
   "version": "3.10.2"
  },
  "orig_nbformat": 4
 },
 "nbformat": 4,
 "nbformat_minor": 2
}
